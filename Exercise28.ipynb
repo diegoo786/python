{
 "cells": [
  {
   "cell_type": "code",
   "execution_count": null,
   "metadata": {},
   "outputs": [],
   "source": [
    "1. True and True \n",
    "\n",
    "2. False and True \n",
    "\n",
    "3. 1 == 1 and 2 == 1 \n",
    "\n",
    "4. \"test\" == \"test\" \n",
    "\n",
    "5. 1 == 1 or 2 != 1 \n",
    "\n",
    "6. True and 1 == 1 \n",
    "\n",
    "7. False and 0 != 0 \n",
    "\n",
    "8. True or 1 == 1 \n",
    "\n",
    "9. \"test\" == \"testing\" \n",
    "\n",
    "10. 1 != 0 and 2 == 1 \n",
    "\n",
    "11. \"test\" != \"testing\" \n",
    "\n",
    "12. \"test\" == 1 \n",
    "\n",
    "13. not (True and False) \n",
    "\n",
    "14. not (1 == 1 and 0 != 1) \n",
    "\n",
    "15. not (10 == 1 or 1000 == 1000) \n",
    "\n",
    "16. not (1 != 10 or 3 == 4) \n",
    "\n",
    "17. not (\"testing\" == \"testing\" and \"Zed\" == \"Cool Guy\") \n",
    "\n",
    "18. 1 == 1 and not (\"testing\" == 1 or 1 == 0) \n",
    "\n",
    "19. \"chunky\" == \"bacon\" and not (3 == 4 or 3 == 3) \n",
    "\n",
    "20. 3 == 3 and not (\"testing\" == \"testing\" or \"Python\" == \"Fun\")"
   ]
  }
 ],
 "metadata": {
  "kernelspec": {
   "display_name": "Python 3",
   "language": "python",
   "name": "python3"
  },
  "language_info": {
   "codemirror_mode": {
    "name": "ipython",
    "version": 3
   },
   "file_extension": ".py",
   "mimetype": "text/x-python",
   "name": "python",
   "nbconvert_exporter": "python",
   "pygments_lexer": "ipython3",
   "version": "3.6.5"
  }
 },
 "nbformat": 4,
 "nbformat_minor": 2
}
