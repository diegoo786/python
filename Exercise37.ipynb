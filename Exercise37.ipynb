{
 "cells": [
  {
   "cell_type": "code",
   "execution_count": null,
   "metadata": {},
   "outputs": [],
   "source": [
    "print \"You enter a dark room with two doors.  Do you go through door #1 or door #2?\" \n",
    "\n",
    "door = raw_input(\"> \") \n",
    "\n",
    "if door == \"1\":\n",
    "\n",
    "    print \"There's a giant bear here eating a cheese cake.  What do you do?\"\n",
    "\n",
    "    print \"1. Take the cake.\"\n",
    "\n",
    "    print \"2. Scream at the bear.\"\n",
    "\n",
    "\t\n",
    "\n",
    "    bear = raw_input(\"> \")\n",
    "\n",
    "\n",
    "\n",
    "    if bear == \"1\":\n",
    "\n",
    "        print \"The bear eats your face off.  Good job!\"\n",
    "\n",
    "elif bear == \"2\":\n",
    "\n",
    "\t\tprint \"The bear eats your legs off.  Good job!\"\n",
    "\n",
    "else:\n",
    "\n",
    "\t\tprint \"Well, doing %s is probably better.  Bear runs away.\" % bear \n",
    "\n",
    "\t\tprint \"Your body survives powered by a mind of jello.  Good job!\"\n",
    "\n",
    "\t\tprint \"The insanity rots your eyes into a pool of muck.  Good job!\"\t   \n",
    "\n",
    "\t\tprint \"You stumble around and fall on a knife and die.  Good job!\""
   ]
  }
 ],
 "metadata": {
  "kernelspec": {
   "display_name": "Python 3",
   "language": "python",
   "name": "python3"
  },
  "language_info": {
   "codemirror_mode": {
    "name": "ipython",
    "version": 3
   },
   "file_extension": ".py",
   "mimetype": "text/x-python",
   "name": "python",
   "nbconvert_exporter": "python",
   "pygments_lexer": "ipython3",
   "version": "3.6.5"
  }
 },
 "nbformat": 4,
 "nbformat_minor": 2
}
