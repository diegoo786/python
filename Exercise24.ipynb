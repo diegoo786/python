{
 "cells": [
  {
   "cell_type": "code",
   "execution_count": null,
   "metadata": {},
   "outputs": [],
   "source": [
    "print(\"Let's practice everything.\")\n",
    "print('You\\'d need to know \\'bout escapes with \\\\ that do:')\n",
    "print('\\n newlines and \\t tabs.')\n",
    "\n",
    "poem = \"\"\"\n",
    "\\tThe lovely world\n",
    "with logic so firmly planted\n",
    "cannot discern \\n the needs of love\n",
    "nor comprehend passion from intuition\n",
    "and requires an explanation\n",
    "\\n\\t\\twhere there is none.\n",
    "\"\"\"\n",
    "\n",
    "print(\"--------------\")\n",
    "print(poem)\n",
    "print(\"--------------\")\n",
    "\n",
    "\n",
    "five = 10 - 2 + 3 - 6\n",
    "print(f\"This should be five: {five}\")\n",
    "\n",
    "def secret_formula(started):\n",
    "    jelly_beans = started * 500\n",
    "    jars = jelly_beans / 1000\n",
    "    crates = jars / 100\n",
    "    return jelly_beans, jars, crates\n",
    "\n",
    "\n",
    "start_point = 10000\n",
    "beans, jars, crates = secret_formula(start_point)\n",
    "\n",
    "# remember that this is another way to format a string\n",
    "print(\"With a starting point of: {}\".format(start_point))\n",
    "# it's just like with an f\"\" string\n",
    "print(f\"We'd have {beans} beans, {jars} jars, and {crates} crates.\")\n",
    "\n",
    "start_point = start_point / 10\n",
    "\n",
    "print(\"We can also do that this way:\")\n",
    "formula = secret_formula(start_point)\n",
    "# this is an easy way to apply a list to a format string\n",
    "print(\"We'd have {} beans, {} jars, and {} crates.\".format(*formula))"
   ]
  }
 ],
 "metadata": {
  "kernelspec": {
   "display_name": "Python 3",
   "language": "python",
   "name": "python3"
  },
  "language_info": {
   "name": ""
  }
 },
 "nbformat": 4,
 "nbformat_minor": 2
}
