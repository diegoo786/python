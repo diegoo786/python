{
 "cells": [
  {
   "cell_type": "code",
   "execution_count": null,
   "metadata": {},
   "outputs": [],
   "source": [
    "print(\"'My Trip to Disney World!'\\n\")\n",
    "\n",
    "question = ['a Friends name', 'an integer', 'a vehicle', ]\n",
    "\n",
    "answer=[]\n",
    "\n",
    "for i in range(15):\n",
    "\n",
    "print(\"Enter\", question[i])\n",
    "\n",
    "data=input()\n",
    "\n",
    "answer.append(data)\n",
    "\n",
    "\n",
    "\n",
    "print(f\"\"\"\n",
    "\n",
    "Last month, I went to Disney World with {answer[0]}.\n",
    "\n",
    "We traveled for {answer[1]} hours by {answer[2]}.\n",
    "\"\"\")"
   ]
  },
  {
   "cell_type": "code",
   "execution_count": 15,
   "metadata": {},
   "outputs": [
    {
     "name": "stdout",
     "output_type": "stream",
     "text": [
      "What zoo did you go to? "
     ]
    },
    {
     "name": "stdin",
     "output_type": "stream",
     "text": [
      " miami zoo\n"
     ]
    },
    {
     "name": "stdout",
     "output_type": "stream",
     "text": [
      "What animals were your favorite? "
     ]
    },
    {
     "name": "stdin",
     "output_type": "stream",
     "text": [
      " monkeys\n"
     ]
    },
    {
     "name": "stdout",
     "output_type": "stream",
     "text": [
      "What were they doing? "
     ]
    },
    {
     "name": "stdin",
     "output_type": "stream",
     "text": [
      " sleeping\n"
     ]
    },
    {
     "name": "stdout",
     "output_type": "stream",
     "text": [
      "I went to the miami zoo and I saw monkeys, they were sleeping\n"
     ]
    }
   ],
   "source": [
    "print(\"What zoo did you go to?\", end= ' ')\n",
    "zoo = input()\n",
    "print(\"What animals were your favorite?\", end = ' ')\n",
    "animal = input()\n",
    "print(\"What were they doing?\", end= ' ')\n",
    "activity = input()\n",
    "\n",
    "print(f\"I went to the {zoo} and I saw {animal}, they were {activity}\")\n"
   ]
  },
  {
   "cell_type": "code",
   "execution_count": 14,
   "metadata": {},
   "outputs": [
    {
     "name": "stdout",
     "output_type": "stream",
     "text": [
      "What animals did you feed? "
     ]
    },
    {
     "name": "stdin",
     "output_type": "stream",
     "text": [
      " elephants\n"
     ]
    },
    {
     "name": "stdout",
     "output_type": "stream",
     "text": [
      "What did you feed them? "
     ]
    },
    {
     "name": "stdin",
     "output_type": "stream",
     "text": [
      " peanuts\n"
     ]
    },
    {
     "name": "stdout",
     "output_type": "stream",
     "text": [
      "What did you eat at the zoo? "
     ]
    },
    {
     "name": "stdin",
     "output_type": "stream",
     "text": [
      " burgers\n"
     ]
    },
    {
     "name": "stdout",
     "output_type": "stream",
     "text": [
      "Later that day I fed elephants, with peanuts. Feeding them made me hungry so I ate burgers.\n"
     ]
    }
   ],
   "source": [
    "print(\"What animals did you feed?\", end=' ')\n",
    "animalsFed = input()\n",
    "print(\"What did you feed them?\", end= ' ')\n",
    "food = input()\n",
    "print(\"What did you eat at the zoo?\", end= ' ')\n",
    "foodEaten = input()\n",
    "\n",
    "print(f\"Later that day I fed {animalsFed}, with {food}. Feeding them made me hungry so I ate {foodEaten}.\")"
   ]
  },
  {
   "cell_type": "code",
   "execution_count": 13,
   "metadata": {},
   "outputs": [
    {
     "name": "stdout",
     "output_type": "stream",
     "text": [
      "How was your day at the zoo?\n"
     ]
    },
    {
     "name": "stdin",
     "output_type": "stream",
     "text": [
      " amazing\n"
     ]
    },
    {
     "name": "stdout",
     "output_type": "stream",
     "text": [
      "Who did you tell about your day?\n"
     ]
    },
    {
     "name": "stdin",
     "output_type": "stream",
     "text": [
      " dad\n"
     ]
    },
    {
     "name": "stdout",
     "output_type": "stream",
     "text": [
      "How did you feel after going to the zoo?\n"
     ]
    },
    {
     "name": "stdin",
     "output_type": "stream",
     "text": [
      " tired\n"
     ]
    },
    {
     "name": "stdout",
     "output_type": "stream",
     "text": [
      "My experience at the zoo was amazing. When i got home, I told my dad and I was really tired.\n"
     ]
    }
   ],
   "source": [
    "print(\"How was your day at the zoo?\")\n",
    "day = input()\n",
    "print(\"Who did you tell about your day?\")\n",
    "person = input()\n",
    "print(\"How did you feel after going to the zoo?\")\n",
    "adjective = input()\n",
    "\n",
    "print(f\"My experience at the zoo was {day}. When i got home, I told my {person} and I was really {adjective}.\")"
   ]
  },
  {
   "cell_type": "code",
   "execution_count": 12,
   "metadata": {},
   "outputs": [
    {
     "name": "stdout",
     "output_type": "stream",
     "text": [
      "Where did you travel?\n"
     ]
    },
    {
     "name": "stdin",
     "output_type": "stream",
     "text": [
      " new york\n"
     ]
    },
    {
     "name": "stdout",
     "output_type": "stream",
     "text": [
      "Who did you travel with?\n"
     ]
    },
    {
     "name": "stdin",
     "output_type": "stream",
     "text": [
      " my mom\n"
     ]
    },
    {
     "name": "stdout",
     "output_type": "stream",
     "text": [
      "What did you see?\n"
     ]
    },
    {
     "name": "stdin",
     "output_type": "stream",
     "text": [
      " statue of liberty\n"
     ]
    },
    {
     "name": "stdout",
     "output_type": "stream",
     "text": [
      "This summer I traveled to new york with my mom and I was able to see statue of liberty\n"
     ]
    }
   ],
   "source": [
    "print(\"Where did you travel?\")\n",
    "placeTraveled = input()\n",
    "print(\"Who did you travel with?\")\n",
    "personTraveled = input()\n",
    "print(\"What did you see?\")\n",
    "sights = input()\n",
    "\n",
    "print(f\"This summer I traveled to {placeTraveled} with {personTraveled} and I was able to see {sights}\")"
   ]
  },
  {
   "cell_type": "code",
   "execution_count": 11,
   "metadata": {},
   "outputs": [
    {
     "name": "stdout",
     "output_type": "stream",
     "text": [
      "What is your favorite song?\n"
     ]
    },
    {
     "name": "stdin",
     "output_type": "stream",
     "text": [
      " thriller\n"
     ]
    },
    {
     "name": "stdout",
     "output_type": "stream",
     "text": [
      "Who sings the song?\n"
     ]
    },
    {
     "name": "stdin",
     "output_type": "stream",
     "text": [
      " michael jackson\n"
     ]
    },
    {
     "name": "stdout",
     "output_type": "stream",
     "text": [
      "How long is the song?\n"
     ]
    },
    {
     "name": "stdin",
     "output_type": "stream",
     "text": [
      " 3 minutes\n"
     ]
    },
    {
     "name": "stdout",
     "output_type": "stream",
     "text": [
      "My favorite song is thriller, it is by michael jackson, and it is 3 minutes long\n"
     ]
    }
   ],
   "source": [
    "print(\"What is your favorite song?\")\n",
    "song = input()\n",
    "print(\"Who sings the song?\")\n",
    "artist = input()\n",
    "print(\"How long is the song?\")\n",
    "length = input()\n",
    "\n",
    "print(f\"My favorite song is {song}, it is by {artist}, and it is {length} long\")"
   ]
  },
  {
   "cell_type": "code",
   "execution_count": 10,
   "metadata": {},
   "outputs": [
    {
     "name": "stdout",
     "output_type": "stream",
     "text": [
      "What holiday are you celebrating?\n"
     ]
    },
    {
     "name": "stdin",
     "output_type": "stream",
     "text": [
      " thanksgiving\n"
     ]
    },
    {
     "name": "stdout",
     "output_type": "stream",
     "text": [
      "Where are you celebrating it?\n"
     ]
    },
    {
     "name": "stdin",
     "output_type": "stream",
     "text": [
      " grandmas house\n"
     ]
    },
    {
     "name": "stdout",
     "output_type": "stream",
     "text": [
      "Who greeted you?\n"
     ]
    },
    {
     "name": "stdin",
     "output_type": "stream",
     "text": [
      " uncle\n"
     ]
    },
    {
     "name": "stdout",
     "output_type": "stream",
     "text": [
      "What did they greet you with?\n"
     ]
    },
    {
     "name": "stdin",
     "output_type": "stream",
     "text": [
      " hug\n"
     ]
    },
    {
     "name": "stdout",
     "output_type": "stream",
     "text": [
      "Tonight my family and I are celebrating thanksgiving dinner. We are celebrating it at grandmas house. When we got there we were greeted by my uncle with a big hug. \n"
     ]
    }
   ],
   "source": [
    "print(\"What holiday are you celebrating?\")\n",
    "holiday = input()\n",
    "print(\"Where are you celebrating it?\")\n",
    "locationCelebrated = input()\n",
    "print(\"Who greeted you?\")\n",
    "familyRelative = input()\n",
    "print(\"What did they greet you with?\")\n",
    "adjective = input()\n",
    "\n",
    "print(f\"Tonight my family and I are celebrating {holiday} dinner. We are celebrating it at {locationCelebrated}. When we got there we were greeted by my {familyRelative} with a big {adjective}. \")"
   ]
  },
  {
   "cell_type": "code",
   "execution_count": 7,
   "metadata": {},
   "outputs": [
    {
     "name": "stdout",
     "output_type": "stream",
     "text": [
      "Which football team? "
     ]
    },
    {
     "name": "stdin",
     "output_type": "stream",
     "text": [
      " dolphins\n"
     ]
    },
    {
     "name": "stdout",
     "output_type": "stream",
     "text": [
      "Where did you watch the game?"
     ]
    },
    {
     "name": "stdin",
     "output_type": "stream",
     "text": [
      " my house\n"
     ]
    },
    {
     "name": "stdout",
     "output_type": "stream",
     "text": [
      "How many points did your team win by? "
     ]
    },
    {
     "name": "stdin",
     "output_type": "stream",
     "text": [
      " 3\n"
     ]
    },
    {
     "name": "stdout",
     "output_type": "stream",
     "text": [
      "Yesterday I watched my favorite football team, the dolphins, at my house and they won by 3\n"
     ]
    }
   ],
   "source": [
    "print(\"Which football team?\", end= ' ')\n",
    "footballTeam = input()\n",
    "print(\"Where did you watch the game?\", end= '')\n",
    "location = input ()\n",
    "print(\"How many points did your team win by?\", end= ' ')\n",
    "points = input()\n",
    "\n",
    "print(f\"Yesterday I watched my favorite football team, the {footballTeam}, at {location} and they won by {points}\")"
   ]
  },
  {
   "cell_type": "code",
   "execution_count": 6,
   "metadata": {},
   "outputs": [
    {
     "name": "stdout",
     "output_type": "stream",
     "text": [
      "How many hours did you work?\n"
     ]
    },
    {
     "name": "stdin",
     "output_type": "stream",
     "text": [
      " 8\n"
     ]
    },
    {
     "name": "stdout",
     "output_type": "stream",
     "text": [
      "How many hours do you have for the week?\n"
     ]
    },
    {
     "name": "stdin",
     "output_type": "stream",
     "text": [
      " 40\n"
     ]
    },
    {
     "name": "stdout",
     "output_type": "stream",
     "text": [
      "How do you feel?\n"
     ]
    },
    {
     "name": "stdin",
     "output_type": "stream",
     "text": [
      " tired\n"
     ]
    },
    {
     "name": "stdout",
     "output_type": "stream",
     "text": [
      "I have been working for 8 hours and so far I have 40 this week. I feel very tired and I want to go home.\n"
     ]
    }
   ],
   "source": [
    "print(\"How many hours did you work?\")\n",
    "hoursWorked = input()\n",
    "print(\"How many hours do you have for the week?\")\n",
    "weeklyHours = input()\n",
    "print(\"How do you feel?\")\n",
    "adjective = input()\n",
    "\n",
    "print(f\"I have been working for {hoursWorked} hours and so far I have {weeklyHours} this week. I feel very {adjective} and I want to go home.\")"
   ]
  },
  {
   "cell_type": "code",
   "execution_count": 3,
   "metadata": {},
   "outputs": [
    {
     "name": "stdout",
     "output_type": "stream",
     "text": [
      "Do you practice any sports?\n"
     ]
    },
    {
     "name": "stdin",
     "output_type": "stream",
     "text": [
      " football\n"
     ]
    },
    {
     "name": "stdout",
     "output_type": "stream",
     "text": [
      "Since what age have you been playing the sport?\n"
     ]
    },
    {
     "name": "stdin",
     "output_type": "stream",
     "text": [
      " 6\n"
     ]
    },
    {
     "name": "stdout",
     "output_type": "stream",
     "text": [
      "What high school team did you play for?\n"
     ]
    },
    {
     "name": "stdin",
     "output_type": "stream",
     "text": [
      " braddock\n"
     ]
    },
    {
     "name": "stdout",
     "output_type": "stream",
     "text": [
      "I have been practicing football since I was 6 and I played for my high school team, braddock. \n"
     ]
    }
   ],
   "source": [
    "print(\"Do you practice any sports?\")\n",
    "sportPracticed = input()\n",
    "print(\"Since what age have you been playing the sport?\")\n",
    "agePlayed = input()\n",
    "print(\"What high school team did you play for?\")\n",
    "highSchool = input()\n",
    "\n",
    "print(f\"I have been practicing {sportPracticed} since I was {agePlayed} and I played for my high school team, {highSchool}. \")"
   ]
  },
  {
   "cell_type": "code",
   "execution_count": null,
   "metadata": {},
   "outputs": [],
   "source": []
  }
 ],
 "metadata": {
  "kernelspec": {
   "display_name": "Python 3",
   "language": "python",
   "name": "python3"
  },
  "language_info": {
   "codemirror_mode": {
    "name": "ipython",
    "version": 3
   },
   "file_extension": ".py",
   "mimetype": "text/x-python",
   "name": "python",
   "nbconvert_exporter": "python",
   "pygments_lexer": "ipython3",
   "version": "3.6.5"
  }
 },
 "nbformat": 4,
 "nbformat_minor": 2
}
