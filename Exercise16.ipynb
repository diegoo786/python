{
 "cells": [
  {
   "cell_type": "code",
   "execution_count": 1,
   "metadata": {},
   "outputs": [
    {
     "ename": "ValueError",
     "evalue": "too many values to unpack (expected 2)",
     "output_type": "error",
     "traceback": [
      "\u001b[0;31m---------------------------------------------------------------------------\u001b[0m",
      "\u001b[0;31mValueError\u001b[0m                                Traceback (most recent call last)",
      "\u001b[0;32m<ipython-input-1-858b7adb21c8>\u001b[0m in \u001b[0;36m<module>\u001b[0;34m\u001b[0m\n\u001b[1;32m      1\u001b[0m \u001b[0;32mfrom\u001b[0m \u001b[0msys\u001b[0m \u001b[0;32mimport\u001b[0m \u001b[0margv\u001b[0m\u001b[0;34m\u001b[0m\u001b[0m\n\u001b[1;32m      2\u001b[0m \u001b[0;34m\u001b[0m\u001b[0m\n\u001b[0;32m----> 3\u001b[0;31m \u001b[0mscript\u001b[0m\u001b[0;34m,\u001b[0m \u001b[0mfilename\u001b[0m \u001b[0;34m=\u001b[0m \u001b[0margv\u001b[0m\u001b[0;34m\u001b[0m\u001b[0m\n\u001b[0m\u001b[1;32m      4\u001b[0m \u001b[0;34m\u001b[0m\u001b[0m\n\u001b[1;32m      5\u001b[0m \u001b[0;34m\u001b[0m\u001b[0m\n",
      "\u001b[0;31mValueError\u001b[0m: too many values to unpack (expected 2)"
     ]
    }
   ],
   "source": [
    "from sys import argv\n",
    "\n",
    "script, filename = argv\n",
    "\n",
    "\n",
    "\n",
    "print(f\"We're going to erase {filename}.\")\n",
    "\n",
    "print(\"If you don't want that, hit CTRL-C (^C).\")\n",
    "\n",
    "print(\"If you do want that, hit RETURN.\")\n",
    "\n",
    "input(\"?\")\n",
    "\n",
    "\n",
    "\n",
    "print(\"Opening the file...\")\n",
    "\n",
    "target = open(filename, 'w')\n",
    "\n",
    "\n",
    "\n",
    "print(\"Truncating the file. Goodbye!\")\n",
    "\n",
    "target.truncate()\n",
    "\n",
    "\n",
    "\n",
    "print(\"Now I'm going to ask you for three lines.\")\n",
    "\n",
    "\n",
    "\n",
    "line1 = input(\"line 1: \")\n",
    "\n",
    "line2 = input(\"line 2: \")\n",
    "\n",
    "line3 = input(\"line 3: \")\n",
    "\n",
    "\n",
    "\n",
    "print(\"I'm going to write these to the file.\")\n",
    "\n",
    "\n",
    "\n",
    "target.write(line1)\n",
    "\n",
    "target.write(\"\\n\")\n",
    "\n",
    "target.write(line2)\n",
    "\n",
    "target.write(\"\\n\")\n",
    "\n",
    "target.write(line3)\n",
    "\n",
    "target.write(\"\\n\")\n",
    "\n",
    "\n",
    "\n",
    "print(\"And finally, we close it.\")\n",
    "\n",
    "target.close()"
   ]
  },
  {
   "cell_type": "code",
   "execution_count": null,
   "metadata": {},
   "outputs": [],
   "source": []
  }
 ],
 "metadata": {
  "kernelspec": {
   "display_name": "Python 3",
   "language": "python",
   "name": "python3"
  },
  "language_info": {
   "codemirror_mode": {
    "name": "ipython",
    "version": 3
   },
   "file_extension": ".py",
   "mimetype": "text/x-python",
   "name": "python",
   "nbconvert_exporter": "python",
   "pygments_lexer": "ipython3",
   "version": "3.6.5"
  }
 },
 "nbformat": 4,
 "nbformat_minor": 2
}
