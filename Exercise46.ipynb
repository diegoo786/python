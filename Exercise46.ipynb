{
 "cells": [
  {
   "cell_type": "code",
   "execution_count": null,
   "metadata": {},
   "outputs": [],
   "source": [
    "try:\n",
    "\n",
    "\tfrom setuptools import setup\n",
    "\n",
    "  except ImportError:\n",
    "\n",
    "\tfrom distutils.core import setup\n",
    "\n",
    "\n",
    "\n",
    "  config = {\n",
    "\n",
    "\t'description': 'My Project',\n",
    "\n",
    "\t'author': 'My Name',\n",
    "\n",
    "\t'url': 'URL to get it at.',\n",
    "\n",
    "\t'download_url': 'Where to download it.',\n",
    "\n",
    "\t'author_email': 'My email.',\n",
    "\n",
    "\t'version': '0.1',\n",
    "\n",
    "\t'install_requires': ['nose'],\n",
    "\n",
    "\t'packages': ['NAME'],\n",
    "\n",
    "\t'scripts': [],\n",
    "\n",
    "\t'name': 'projectname'\n",
    "\n",
    "  }\n",
    "\n",
    "\n",
    "\n",
    "\tsetup(**config)\n",
    "\n",
    "\t\n",
    "\n",
    "\tfrom nose.tools import *\n",
    "\n",
    "import NAME\n",
    "\n",
    "def setup():\n",
    "\n",
    "    print(\"SETUP!\")\n",
    "\n",
    "def teardown():\n",
    "\n",
    "    print(\"TEAR DOWN!\")\n",
    "\n",
    "def test_basic():\n",
    "\n",
    "    print(\"I RAN!\", end='')"
   ]
  }
 ],
 "metadata": {
  "kernelspec": {
   "display_name": "Python 3",
   "language": "python",
   "name": "python3"
  },
  "language_info": {
   "codemirror_mode": {
    "name": "ipython",
    "version": 3
   },
   "file_extension": ".py",
   "mimetype": "text/x-python",
   "name": "python",
   "nbconvert_exporter": "python",
   "pygments_lexer": "ipython3",
   "version": "3.6.5"
  }
 },
 "nbformat": 4,
 "nbformat_minor": 2
}
