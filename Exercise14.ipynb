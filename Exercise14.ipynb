{
 "cells": [
  {
   "cell_type": "code",
   "execution_count": 1,
   "metadata": {},
   "outputs": [
    {
     "ename": "ValueError",
     "evalue": "too many values to unpack (expected 2)",
     "output_type": "error",
     "traceback": [
      "\u001b[0;31m---------------------------------------------------------------------------\u001b[0m",
      "\u001b[0;31mValueError\u001b[0m                                Traceback (most recent call last)",
      "\u001b[0;32m<ipython-input-1-26c50396a71c>\u001b[0m in \u001b[0;36m<module>\u001b[0;34m\u001b[0m\n\u001b[1;32m      3\u001b[0m \u001b[0;34m\u001b[0m\u001b[0m\n\u001b[1;32m      4\u001b[0m \u001b[0;34m\u001b[0m\u001b[0m\n\u001b[0;32m----> 5\u001b[0;31m \u001b[0mscript\u001b[0m\u001b[0;34m,\u001b[0m \u001b[0muser_name\u001b[0m \u001b[0;34m=\u001b[0m \u001b[0margv\u001b[0m\u001b[0;34m\u001b[0m\u001b[0m\n\u001b[0m\u001b[1;32m      6\u001b[0m \u001b[0;34m\u001b[0m\u001b[0m\n\u001b[1;32m      7\u001b[0m \u001b[0mprompt\u001b[0m \u001b[0;34m=\u001b[0m \u001b[0;34m'> '\u001b[0m\u001b[0;34m\u001b[0m\u001b[0m\n",
      "\u001b[0;31mValueError\u001b[0m: too many values to unpack (expected 2)"
     ]
    }
   ],
   "source": [
    "from sys import argv\n",
    "\n",
    "\n",
    "\n",
    "script, user_name = argv\n",
    "\n",
    "prompt = '> '\n",
    "\n",
    "\n",
    "\n",
    "print(f\"Hi {user_name}, I'm the {script} script.\")\n",
    "\n",
    "print(\"I'd like to ask you a few questions.\")\n",
    "\n",
    "print(f\"Do you like me {user_name}?\")\n",
    "\n",
    "likes = input(prompt)\n",
    "\n",
    "\n",
    "\n",
    "print(f\"Where do you live {user_name}?\")\n",
    "\n",
    "lives = input(prompt)\n",
    "\n",
    "\n",
    "\n",
    "print(\"What kind of computer do you have?\")\n",
    "\n",
    "computer = input(prompt)\n",
    "\n",
    "\n",
    "\n",
    "print(f\"\"\"\n",
    "\n",
    "Alright, so you said {likes} about liking me.\n",
    "\n",
    "You live in {lives}. Not sure where that is.\n",
    "\n",
    "And you have a {computer} computer. Nice.\n",
    "\n",
    "\"\"\")"
   ]
  },
  {
   "cell_type": "code",
   "execution_count": null,
   "metadata": {},
   "outputs": [],
   "source": []
  }
 ],
 "metadata": {
  "kernelspec": {
   "display_name": "Python 3",
   "language": "python",
   "name": "python3"
  },
  "language_info": {
   "codemirror_mode": {
    "name": "ipython",
    "version": 3
   },
   "file_extension": ".py",
   "mimetype": "text/x-python",
   "name": "python",
   "nbconvert_exporter": "python",
   "pygments_lexer": "ipython3",
   "version": "3.6.5"
  }
 },
 "nbformat": 4,
 "nbformat_minor": 2
}
