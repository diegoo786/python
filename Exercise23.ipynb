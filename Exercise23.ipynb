{
 "cells": [
  {
   "cell_type": "code",
   "execution_count": null,
   "metadata": {},
   "outputs": [],
   "source": [
    "import sys\n",
    "\n",
    "script, input_encoding, error = sys.argv\n",
    "\n",
    "\n",
    "\n",
    "\n",
    "\n",
    "def main(language_file, encoding, errors):\n",
    "\n",
    "    line = language_file.readline()\n",
    "\n",
    "\n",
    "\n",
    "if line:\n",
    "\n",
    "    print_line(line, encoding, errors)\n",
    "\n",
    "    return main(language_file, encoding, errors)\n",
    "\n",
    "\n",
    "\n",
    "\n",
    "\n",
    "def print_line(line, encoding, errors):\n",
    "\n",
    "next_lang = line.strip()\n",
    "\n",
    "raw_bytes = next_lang.encode(encoding, errors=errors)\n",
    "\n",
    "cooked_string = raw_bytes.decode(encoding, errors=errors)\n",
    "\n",
    "\n",
    "\n",
    "print(raw_bytes, \"<===>\", cooked_string)\n",
    "\n",
    "\n",
    "\n",
    "\n",
    "\n",
    "languages = open(\"languages.txt\", encoding=\"utf-8\")\n",
    "\n",
    "\n",
    "\n",
    "main(languages, input_encoding, error)"
   ]
  }
 ],
 "metadata": {
  "kernelspec": {
   "display_name": "Python 3",
   "language": "python",
   "name": "python3"
  },
  "language_info": {
   "codemirror_mode": {
    "name": "ipython",
    "version": 3
   },
   "file_extension": ".py",
   "mimetype": "text/x-python",
   "name": "python",
   "nbconvert_exporter": "python",
   "pygments_lexer": "ipython3",
   "version": "3.6.5"
  }
 },
 "nbformat": 4,
 "nbformat_minor": 2
}
