{
 "cells": [
  {
   "cell_type": "code",
   "execution_count": null,
   "metadata": {},
   "outputs": [],
   "source": [
    "from sys import exit \n",
    "\n",
    "def gold_room():\n",
    "\n",
    "    print \"This room is full of gold.  How much do you take?\"\n",
    "\n",
    "\t\t\n",
    "\n",
    "def bear_room():\n",
    "\n",
    "    print \"There is a bear here.\"\n",
    "\n",
    "    print \"The bear has a bunch of honey.\"\n",
    "\n",
    "    print \"The fat bear is in front of another door.\"\n",
    "\n",
    "    print \"How are you going to move the bear?\"\n",
    "\n",
    "    bear_moved = False\n",
    "\n",
    "\n",
    "\n",
    "    while True:\n",
    "\n",
    "\tnext = raw_input(\"> \")\n",
    "\n",
    "\t\t\t\n",
    "\n",
    "def cthulhu_room():\n",
    "\n",
    "    print \"Here you see the great evil Cthulhu.\"\n",
    "\n",
    "    print \"He, it, whatever stares at you and you go insane.\"\n",
    "\n",
    "\t\n",
    "\n",
    "print \"There is a chair here.\""
   ]
  }
 ],
 "metadata": {
  "kernelspec": {
   "display_name": "Python 3",
   "language": "python",
   "name": "python3"
  },
  "language_info": {
   "codemirror_mode": {
    "name": "ipython",
    "version": 3
   },
   "file_extension": ".py",
   "mimetype": "text/x-python",
   "name": "python",
   "nbconvert_exporter": "python",
   "pygments_lexer": "ipython3",
   "version": "3.6.5"
  }
 },
 "nbformat": 4,
 "nbformat_minor": 2
}
