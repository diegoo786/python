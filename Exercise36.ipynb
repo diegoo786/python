{
 "cells": [
  {
   "cell_type": "code",
   "execution_count": 1,
   "metadata": {},
   "outputs": [
    {
     "ename": "SyntaxError",
     "evalue": "Missing parentheses in call to 'print'. Did you mean print(\"This room is full of gold.  How much do you take?\")? (<ipython-input-1-7b82e35f593e>, line 5)",
     "output_type": "error",
     "traceback": [
      "\u001b[0;36m  File \u001b[0;32m\"<ipython-input-1-7b82e35f593e>\"\u001b[0;36m, line \u001b[0;32m5\u001b[0m\n\u001b[0;31m    print \"This room is full of gold.  How much do you take?\"\u001b[0m\n\u001b[0m                                                            ^\u001b[0m\n\u001b[0;31mSyntaxError\u001b[0m\u001b[0;31m:\u001b[0m Missing parentheses in call to 'print'. Did you mean print(\"This room is full of gold.  How much do you take?\")?\n"
     ]
    }
   ],
   "source": [
    "from sys import exit \n",
    "\n",
    "def gold_room():\n",
    "\n",
    "    print \"This room is full of gold.  How much do you take?\"\n",
    "\n",
    "\t\t\n",
    "\n",
    "def bear_room():\n",
    "\n",
    "    print \"There is a bear here.\"\n",
    "\n",
    "    print \"The bear has a bunch of honey.\"\n",
    "\n",
    "    print \"The fat bear is in front of another door.\"\n",
    "\n",
    "    print \"How are you going to move the bear?\"\n",
    "\n",
    "    bear_moved = False\n",
    "\n",
    "\n",
    "\n",
    "    while True:\n",
    "\n",
    "\tnext = raw_input(\"> \")\n",
    "\n",
    "\t\t\t\n",
    "\n",
    "def cthulhu_room():\n",
    "\n",
    "    print \"Here you see the great evil Cthulhu.\"\n",
    "\n",
    "    print \"He, it, whatever stares at you and you go insane.\"\n",
    "\n",
    "\t\n",
    "\n",
    "print \"There is a chair here.\""
   ]
  },
  {
   "cell_type": "code",
   "execution_count": null,
   "metadata": {},
   "outputs": [],
   "source": []
  }
 ],
 "metadata": {
  "kernelspec": {
   "display_name": "Python 3",
   "language": "python",
   "name": "python3"
  },
  "language_info": {
   "codemirror_mode": {
    "name": "ipython",
    "version": 3
   },
   "file_extension": ".py",
   "mimetype": "text/x-python",
   "name": "python",
   "nbconvert_exporter": "python",
   "pygments_lexer": "ipython3",
   "version": "3.6.5"
  }
 },
 "nbformat": 4,
 "nbformat_minor": 2
}
