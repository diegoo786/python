{
 "cells": [
  {
   "cell_type": "code",
   "execution_count": null,
   "metadata": {},
   "outputs": [],
   "source": [
    "print(\"What is your friends name\", end=' ') \n",
    "Friendsname = input() \n",
    "print(\"How many hours\", end=' ') \n",
    "Numberhours = input() \n",
    "print(\"In what vehicle\", end=' ') \n",
    "Vehicle = input() \n",
    "\n",
    "print(f\"Last month, I went to Disney World with {Friendsname}, We traveled for {Numberhours} hours, by {Vehicle}\")"
   ]
  },
  {
   "cell_type": "code",
   "execution_count": null,
   "metadata": {},
   "outputs": [],
   "source": [
    "print(\"What zoo did you go to?\", end= ' ')\n",
    "zoo = input()\n",
    "print(\"What animals were your favorite?\", end = ' ')\n",
    "animal = input()\n",
    "print(\"What were they doing?\", end= ' ')\n",
    "activity = input()\n",
    "\n",
    "print(f\"I went to the {zoo} and I saw {animal}, they were {activity}\")\n"
   ]
  },
  {
   "cell_type": "code",
   "execution_count": null,
   "metadata": {},
   "outputs": [],
   "source": [
    "print(\"What animals did you feed?\", end=' ')\n",
    "animalsFed = input()\n",
    "print(\"What did you feed them?\", end= ' ')\n",
    "food = input()\n",
    "print(\"What did you eat at the zoo?\", end= ' ')\n",
    "foodEaten = input()\n",
    "\n",
    "print(f\"Later that day I fed {animalsFed}, with {food}. Feeding them made me hungry so I ate {foodEaten}.\")"
   ]
  },
  {
   "cell_type": "code",
   "execution_count": null,
   "metadata": {},
   "outputs": [],
   "source": [
    "print(\"How was your day at the zoo?\")\n",
    "day = input()\n",
    "print(\"Who did you tell about your day?\")\n",
    "person = input()\n",
    "print(\"How did you feel after going to the zoo?\")\n",
    "adjective = input()\n",
    "\n",
    "print(f\"My experience at the zoo was {day}. When i got home, I told my {person} and I was really {adjective}.\")"
   ]
  },
  {
   "cell_type": "code",
   "execution_count": null,
   "metadata": {},
   "outputs": [],
   "source": [
    "print(\"Where did you travel?\")\n",
    "placeTraveled = input()\n",
    "print(\"Who did you travel with?\")\n",
    "personTraveled = input()\n",
    "print(\"What did you see?\")\n",
    "sights = input()\n",
    "\n",
    "print(f\"This summer I traveled to {placeTraveled} with {personTraveled} and I was able to see {sights}\")"
   ]
  },
  {
   "cell_type": "code",
   "execution_count": null,
   "metadata": {},
   "outputs": [],
   "source": [
    "print(\"What is your favorite song?\")\n",
    "song = input()\n",
    "print(\"Who sings the song?\")\n",
    "artist = input()\n",
    "print(\"How long is the song?\")\n",
    "length = input()\n",
    "\n",
    "print(f\"My favorite song is {song}, it is by {artist}, and it is {length} long\")"
   ]
  },
  {
   "cell_type": "code",
   "execution_count": null,
   "metadata": {},
   "outputs": [],
   "source": [
    "print(\"What holiday are you celebrating?\")\n",
    "holiday = input()\n",
    "print(\"Where are you celebrating it?\")\n",
    "locationCelebrated = input()\n",
    "print(\"Who greeted you?\")\n",
    "familyRelative = input()\n",
    "print(\"What did they greet you with?\")\n",
    "adjective = input()\n",
    "\n",
    "print(f\"Tonight my family and I are celebrating {holiday} dinner. We are celebrating it at {location}. When we got there we were greeted by my\n",
    "     {familyRelative} with a big {adjective}. \")"
   ]
  },
  {
   "cell_type": "code",
   "execution_count": null,
   "metadata": {},
   "outputs": [],
   "source": [
    "print(\"Which football team?\", end= ' ')\n",
    "footballTeam = input()\n",
    "print(\"Where did you watch the game?\", end= '')\n",
    "location = input ()\n",
    "print(\"How many points did your team win by?\", end= ' ')\n",
    "points = input()\n",
    "\n",
    "print(f\"Yesterday I watched my favorite football team, the {footballTeam}, at {location} and they won by {points}\")"
   ]
  },
  {
   "cell_type": "code",
   "execution_count": null,
   "metadata": {},
   "outputs": [],
   "source": [
    "print(\"How many hours did you work?\")\n",
    "hoursWorked = input()\n",
    "print(\"How many hours do you have for the week?\")\n",
    "weeklyHours = input()\n",
    "print(\"How do you feel?\")\n",
    "adjective = input()\n",
    "\n",
    "print(f\"I have been working for {hoursWorked} and so far I have {weeklyHours} this week. I feel very {adjective} and I want to go home.)"
   ]
  },
  {
   "cell_type": "code",
   "execution_count": null,
   "metadata": {},
   "outputs": [],
   "source": [
    "print(\"Do you practice any sports?\")\n",
    "sportPracticed = input()\n",
    "print(\"Since what age have you been playing the sport?\")\n",
    "agePlayed = input()\n",
    "print(\"What high school team did you play for?\")\n",
    "highSchool = input()\n",
    "\n",
    "print(f\"I have been practicing {sportPracticed} since I was {agePlayed} and I played for my high school team, the {highSchool}. \")"
   ]
  },
  {
   "cell_type": "code",
   "execution_count": null,
   "metadata": {},
   "outputs": [],
   "source": []
  },
  {
   "cell_type": "code",
   "execution_count": null,
   "metadata": {},
   "outputs": [],
   "source": []
  }
 ],
 "metadata": {
  "kernelspec": {
   "display_name": "Python 3",
   "language": "python",
   "name": "python3"
  },
  "language_info": {
   "codemirror_mode": {
    "name": "ipython",
    "version": 3
   },
   "file_extension": ".py",
   "mimetype": "text/x-python",
   "name": "python",
   "nbconvert_exporter": "python",
   "pygments_lexer": "ipython3",
   "version": "3.6.5"
  }
 },
 "nbformat": 4,
 "nbformat_minor": 2
}
