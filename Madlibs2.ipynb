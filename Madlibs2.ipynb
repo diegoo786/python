{
 "cells": [
  {
   "cell_type": "code",
   "execution_count": 3,
   "metadata": {},
   "outputs": [
    {
     "name": "stdout",
     "output_type": "stream",
     "text": [
      "'My Trip to Disney World!'\n",
      "\n",
      "Enter a Friends name\n"
     ]
    },
    {
     "name": "stdin",
     "output_type": "stream",
     "text": [
      " javier\n"
     ]
    },
    {
     "name": "stdout",
     "output_type": "stream",
     "text": [
      "Enter an integer\n"
     ]
    },
    {
     "name": "stdin",
     "output_type": "stream",
     "text": [
      " 3\n"
     ]
    },
    {
     "name": "stdout",
     "output_type": "stream",
     "text": [
      "Enter a vehicle\n"
     ]
    },
    {
     "name": "stdin",
     "output_type": "stream",
     "text": [
      " car\n"
     ]
    },
    {
     "name": "stdout",
     "output_type": "stream",
     "text": [
      "\n",
      "\n",
      "Last month, I went to Disney World with javier.\n",
      "\n",
      "We traveled for 3 hours by car.\n",
      "\n"
     ]
    }
   ],
   "source": [
    "print(\"'My Trip to Disney World!'\\n\")\n",
    "\n",
    "question = ['a Friends name', 'an integer', 'a vehicle', ]\n",
    "\n",
    "answer=[]\n",
    "\n",
    "for i in range(3):\n",
    "\n",
    "\tprint(\"Enter\", question[i])\n",
    "\n",
    "\tdata=input()\n",
    "\n",
    "\tanswer.append(data)\n",
    "\n",
    "\n",
    "print(f\"\"\"\n",
    "\n",
    "Last month, I went to Disney World with {answer[0]}.\n",
    "\n",
    "We traveled for {answer[1]} hours by {answer[2]}.\n",
    "\"\"\")"
   ]
  },
  {
   "cell_type": "code",
   "execution_count": 4,
   "metadata": {},
   "outputs": [
    {
     "name": "stdout",
     "output_type": "stream",
     "text": [
      "'My Day at the Zoo\n",
      "Enter Zoo name\n"
     ]
    },
    {
     "name": "stdin",
     "output_type": "stream",
     "text": [
      " miami zoo\n"
     ]
    },
    {
     "name": "stdout",
     "output_type": "stream",
     "text": [
      "Enter an animal\n"
     ]
    },
    {
     "name": "stdin",
     "output_type": "stream",
     "text": [
      " monkeys\n"
     ]
    },
    {
     "name": "stdout",
     "output_type": "stream",
     "text": [
      "Enter an activity\n"
     ]
    },
    {
     "name": "stdin",
     "output_type": "stream",
     "text": [
      " eating\n"
     ]
    },
    {
     "name": "stdout",
     "output_type": "stream",
     "text": [
      "\n",
      "\n",
      "Yesterday I went to the miami zoo and \n",
      "\n",
      "I saw monkeys, they were eating.\n",
      "\n"
     ]
    }
   ],
   "source": [
    "print(\"'My Day at the Zoo\")\n",
    "\n",
    "question = ['Zoo name', 'an animal', 'an activity', ]\n",
    "\n",
    "answer=[]\n",
    "\n",
    "for i in range(3):\n",
    "\n",
    "\tprint(\"Enter\", question[i])\n",
    "\n",
    "\tdata=input()\n",
    "\n",
    "\tanswer.append(data)\n",
    "\n",
    "\n",
    "print(f\"\"\"\n",
    "\n",
    "Yesterday I went to the {answer[0]} and \n",
    "\n",
    "I saw {answer[1]}, they were {answer[2]}.\n",
    "\"\"\")"
   ]
  },
  {
   "cell_type": "markdown",
   "metadata": {},
   "source": [
    "print(\"'My Day at the Zoo\")\n",
    "\n",
    "question = ['Zoo name', 'an animal', 'an activity', ]\n",
    "\n",
    "answer=[]\n",
    "\n",
    "for i in range(3):\n",
    "\n",
    "\tprint(\"Enter\", question[i])\n",
    "\n",
    "\tdata=input()\n",
    "\n",
    "\tanswer.append(data)\n",
    "\n",
    "\n",
    "print(f\"\"\"\n",
    "\n",
    "Yesterday I went to the {answer[0]} and \n",
    "\n",
    "I saw {answer[1]}, they were {answer[2]}.\n",
    "\"\"\")"
   ]
  },
  {
   "cell_type": "code",
   "execution_count": 2,
   "metadata": {},
   "outputs": [
    {
     "name": "stdout",
     "output_type": "stream",
     "text": [
      "'My Day at the Zoo pt2\n",
      "Enter AnimalsFed\n"
     ]
    },
    {
     "name": "stdin",
     "output_type": "stream",
     "text": [
      " monkeys\n"
     ]
    },
    {
     "name": "stdout",
     "output_type": "stream",
     "text": [
      "Enter FoodGiven\n"
     ]
    },
    {
     "name": "stdin",
     "output_type": "stream",
     "text": [
      " bananas\n"
     ]
    },
    {
     "name": "stdout",
     "output_type": "stream",
     "text": [
      "Enter FoodYouAte\n"
     ]
    },
    {
     "name": "stdin",
     "output_type": "stream",
     "text": [
      " burgers\n"
     ]
    },
    {
     "name": "stdout",
     "output_type": "stream",
     "text": [
      "\n",
      "\n",
      "Later that day, I fed monkeys.\n",
      "\n",
      "I gave them bananas, it made me hungry so I ate burgers.\n",
      "\n"
     ]
    }
   ],
   "source": [
    "print(\"'My Day at the Zoo pt2\")\n",
    "\n",
    "question = ['AnimalsFed', 'FoodGiven', 'FoodYouAte', ]\n",
    "\n",
    "answer=[]\n",
    "\n",
    "for i in range(3):\n",
    "\n",
    "\tprint(\"Enter\", question[i])\n",
    "\n",
    "\tdata=input()\n",
    "\n",
    "\tanswer.append(data)\n",
    "\n",
    "\n",
    "\n",
    "\n",
    "print(f\"\"\"\n",
    "\n",
    "Later that day, I fed {answer[0]}.\n",
    "\n",
    "I gave them {answer[1]}, it made me hungry so I ate {answer[2]}.\n",
    "\"\"\")"
   ]
  },
  {
   "cell_type": "code",
   "execution_count": null,
   "metadata": {},
   "outputs": [],
   "source": [
    "print(\"'My Day at the Zoo pt2\")\n",
    "\n",
    "question = ['AnimalsFed', 'FoodGiven', 'FoodYouAte', ]\n",
    "\n",
    "answer=[]\n",
    "\n",
    "for i in range(3):\n",
    "\n",
    "\tprint(\"Enter\", question[i])\n",
    "\n",
    "\tdata=input()\n",
    "\n",
    "\tanswer.append(data)\n",
    "\n",
    "\n",
    "\n",
    "\n",
    "print(f\"\"\"\n",
    "\n",
    "Later that day, I fed {answer[0]}.\n",
    "\n",
    "I gave them {answer[1]}, it made me hungry so I ate {answer[2]}.\n",
    "\"\"\")"
   ]
  },
  {
   "cell_type": "code",
   "execution_count": null,
   "metadata": {},
   "outputs": [],
   "source": [
    "print(\"'My Day at the Zoo pt3\")\n",
    "\n",
    "question = ['adjective', 'Person', 'feeling', ]\n",
    "\n",
    "answer=[]\n",
    "\n",
    "for i in range(3):\n",
    "\n",
    "\tprint(\"Enter\", question[i])\n",
    "\n",
    "\tdata=input()\n",
    "\n",
    "\tanswer.append(data)\n",
    "\n",
    "\n",
    "\n",
    "\n",
    "print(f\"\"\"\n",
    "\n",
    "My experience at the zoo was {answer[0]}.\n",
    "\n",
    "I told my day {answer[1]}, and at the end of the day I was {answer[2]}.\n",
    "\"\"\")"
   ]
  },
  {
   "cell_type": "code",
   "execution_count": null,
   "metadata": {},
   "outputs": [],
   "source": [
    "print(\"'The Place I've traveled to\")\n",
    "\n",
    "question = ['Place', 'Person', 'Sight', ]\n",
    "\n",
    "answer=[]\n",
    "\n",
    "for i in range(3):\n",
    "\n",
    "\tprint(\"Enter\", question[i])\n",
    "\n",
    "\tdata=input()\n",
    "\n",
    "\tanswer.append(data)\n",
    "\n",
    "\n",
    "\n",
    "\n",
    "print(f\"\"\"\n",
    "\n",
    "This year I traveled to {answer[0]}.\n",
    "\n",
    "I was able to travel with {answer[1]}, my favorite sight was {answer[2]}.\n",
    "\"\"\")"
   ]
  },
  {
   "cell_type": "code",
   "execution_count": null,
   "metadata": {},
   "outputs": [],
   "source": [
    "print(\"'Favorite song\")\n",
    "\n",
    "question = ['FavoriteSong', 'artist', 'length', ]\n",
    "\n",
    "answer=[]\n",
    "\n",
    "for i in range(3):\n",
    "\n",
    "\tprint(\"Enter\", question[i])\n",
    "\n",
    "\tdata=input()\n",
    "\n",
    "\tanswer.append(data)\n",
    "\n",
    "\n",
    "\n",
    "\n",
    "print(f\"\"\"\n",
    "\n",
    "My favorite song is  {answer[0]}.\n",
    "\n",
    "The artist that sings it is {answer[1]}, and the length of the song is {answer[2]}.\n",
    "\"\"\")"
   ]
  },
  {
   "cell_type": "code",
   "execution_count": null,
   "metadata": {},
   "outputs": [],
   "source": [
    "print(\"'Holiday Gathering\")\n",
    "\n",
    "question = ['HolidayCelebrated', 'location', 'person', 'thing' ]\n",
    "\n",
    "answer=[]\n",
    "\n",
    "for i in range(4):\n",
    "\n",
    "\tprint(\"Enter\", question[i])\n",
    "\n",
    "\tdata=input()\n",
    "\n",
    "\tanswer.append(data)\n",
    "\n",
    "\n",
    "\n",
    "\n",
    "print(f\"\"\"\n",
    "\n",
    "Today we are celebrating {answer[0]}.\n",
    "\n",
    "We are celebrating this holiday at  {answer[1]}, when I got there I was greeted by {answer[2]} and they gave me {answer[3].\n",
    "\"\"\")"
   ]
  },
  {
   "cell_type": "code",
   "execution_count": null,
   "metadata": {},
   "outputs": [],
   "source": [
    "print(\"'My football team\")\n",
    "\n",
    "question = ['FootballTeam', 'location', 'number', ]\n",
    "\n",
    "answer=[]\n",
    "\n",
    "for i in range(3):\n",
    "\n",
    "\tprint(\"Enter\", question[i])\n",
    "\n",
    "\tdata=input()\n",
    "\n",
    "\tanswer.append(data)\n",
    "\n",
    "\n",
    "\n",
    "\n",
    "print(f\"\"\"\n",
    "\n",
    "Today i watched my favorite football team, the {answer[0]}.\n",
    "\n",
    "I was able to watch it at  {answer[1]}, and they won by {answer[2]} points.\n",
    "\"\"\")"
   ]
  },
  {
   "cell_type": "code",
   "execution_count": 3,
   "metadata": {},
   "outputs": [
    {
     "name": "stdout",
     "output_type": "stream",
     "text": [
      "'My work week\n",
      "Enter Number\n"
     ]
    },
    {
     "name": "stdin",
     "output_type": "stream",
     "text": [
      " 5\n"
     ]
    },
    {
     "name": "stdout",
     "output_type": "stream",
     "text": [
      "Enter number\n"
     ]
    },
    {
     "name": "stdin",
     "output_type": "stream",
     "text": [
      " 40\n"
     ]
    },
    {
     "name": "stdout",
     "output_type": "stream",
     "text": [
      "Enter feeling\n"
     ]
    },
    {
     "name": "stdin",
     "output_type": "stream",
     "text": [
      " tired\n"
     ]
    },
    {
     "name": "stdout",
     "output_type": "stream",
     "text": [
      "\n",
      "\n",
      "Today I have worked 5 hours.\n",
      "\n",
      "So far this week I have 40 hours, and I feel tired.\n",
      "\n"
     ]
    }
   ],
   "source": [
    "print(\"'My work week\")\n",
    "\n",
    "question = ['Number', 'number', 'feeling', ]\n",
    "\n",
    "answer=[]\n",
    "\n",
    "for i in range(3):\n",
    "\n",
    "\tprint(\"Enter\", question[i])\n",
    "\n",
    "\tdata=input()\n",
    "\n",
    "\tanswer.append(data)\n",
    "\n",
    "\n",
    "\n",
    "\n",
    "print(f\"\"\"\n",
    "\n",
    "Today I have worked {answer[0]} hours.\n",
    "\n",
    "So far this week I have {answer[1]} hours, and I feel {answer[2]}.\n",
    "\"\"\")"
   ]
  },
  {
   "cell_type": "code",
   "execution_count": 4,
   "metadata": {},
   "outputs": [
    {
     "name": "stdout",
     "output_type": "stream",
     "text": [
      "'High School Sports'\n",
      "Enter Sport\n"
     ]
    },
    {
     "name": "stdin",
     "output_type": "stream",
     "text": [
      " football\n"
     ]
    },
    {
     "name": "stdout",
     "output_type": "stream",
     "text": [
      "Enter age\n"
     ]
    },
    {
     "name": "stdin",
     "output_type": "stream",
     "text": [
      " 12\n"
     ]
    },
    {
     "name": "stdout",
     "output_type": "stream",
     "text": [
      "Enter team\n"
     ]
    },
    {
     "name": "stdin",
     "output_type": "stream",
     "text": [
      " braddock\n"
     ]
    },
    {
     "name": "stdout",
     "output_type": "stream",
     "text": [
      "\n",
      "\n",
      "I have been practicing football.\n",
      "\n",
      "since I was 12, for the braddock high school team.\n",
      "\n"
     ]
    }
   ],
   "source": [
    "print(\"'High School Sports'\")\n",
    "\n",
    "question = ['Sport', 'age', 'team', ]\n",
    "\n",
    "answer=[]\n",
    "\n",
    "for i in range(3):\n",
    "\n",
    "\tprint(\"Enter\", question[i])\n",
    "\n",
    "\tdata=input()\n",
    "\n",
    "\tanswer.append(data)\n",
    "\n",
    "\n",
    "\n",
    "\n",
    "print(f\"\"\"\n",
    "\n",
    "I have been practicing {answer[0]}\n",
    "\n",
    "since I was {answer[1]}, for the {answer[2]} high school team.\n",
    "\"\"\")"
   ]
  },
  {
   "cell_type": "code",
   "execution_count": null,
   "metadata": {},
   "outputs": [],
   "source": []
  },
  {
   "cell_type": "code",
   "execution_count": null,
   "metadata": {},
   "outputs": [],
   "source": []
  },
  {
   "cell_type": "code",
   "execution_count": null,
   "metadata": {},
   "outputs": [],
   "source": []
  }
 ],
 "metadata": {
  "kernelspec": {
   "display_name": "Python 3",
   "language": "python",
   "name": "python3"
  },
  "language_info": {
   "codemirror_mode": {
    "name": "ipython",
    "version": 3
   },
   "file_extension": ".py",
   "mimetype": "text/x-python",
   "name": "python",
   "nbconvert_exporter": "python",
   "pygments_lexer": "ipython3",
   "version": "3.6.5"
  }
 },
 "nbformat": 4,
 "nbformat_minor": 2
}
